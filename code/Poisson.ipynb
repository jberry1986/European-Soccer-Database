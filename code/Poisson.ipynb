{
 "cells": [
  {
   "cell_type": "markdown",
   "metadata": {},
   "source": [
    "##### Huge thanks to https://github.com/dashee87/blogScripts/blob/master/Jupyter/2017-06-04-predicting-football-results-with-statistical-modelling.ipynb"
   ]
  },
  {
   "cell_type": "markdown",
   "metadata": {},
   "source": [
    "## Import the data and libraries"
   ]
  },
  {
   "cell_type": "code",
   "execution_count": 1,
   "metadata": {
    "collapsed": true
   },
   "outputs": [],
   "source": [
    "import sqlite3\n",
    "import pandas as pd\n",
    "import numpy as np"
   ]
  },
  {
   "cell_type": "code",
   "execution_count": 2,
   "metadata": {
    "collapsed": true
   },
   "outputs": [],
   "source": [
    "with sqlite3.connect('../data/database.sqlite') as con:\n",
    "\n",
    "    countries = pd.read_sql_query(\"SELECT * from Country\", con)\n",
    "    matches = pd.read_sql_query(\"SELECT * from Match\", con)\n",
    "    leagues = pd.read_sql_query(\"SELECT * from League\", con)\n",
    "    teams = pd.read_sql_query(\"SELECT * from Team\", con)"
   ]
  },
  {
   "cell_type": "markdown",
   "metadata": {},
   "source": [
    "### Get the data in the format that we want"
   ]
  },
  {
   "cell_type": "code",
   "execution_count": 3,
   "metadata": {
    "collapsed": false
   },
   "outputs": [],
   "source": [
    "matches = matches.set_index('id',drop = True).copy()"
   ]
  },
  {
   "cell_type": "code",
   "execution_count": 4,
   "metadata": {
    "collapsed": false
   },
   "outputs": [
    {
     "data": {
      "text/html": [
       "<div>\n",
       "<style scoped>\n",
       "    .dataframe tbody tr th:only-of-type {\n",
       "        vertical-align: middle;\n",
       "    }\n",
       "\n",
       "    .dataframe tbody tr th {\n",
       "        vertical-align: top;\n",
       "    }\n",
       "\n",
       "    .dataframe thead th {\n",
       "        text-align: right;\n",
       "    }\n",
       "</style>\n",
       "<table border=\"1\" class=\"dataframe\">\n",
       "  <thead>\n",
       "    <tr style=\"text-align: right;\">\n",
       "      <th></th>\n",
       "      <th>id</th>\n",
       "      <th>country_id</th>\n",
       "      <th>name</th>\n",
       "    </tr>\n",
       "  </thead>\n",
       "  <tbody>\n",
       "    <tr>\n",
       "      <th>0</th>\n",
       "      <td>1</td>\n",
       "      <td>1</td>\n",
       "      <td>Belgium Jupiler League</td>\n",
       "    </tr>\n",
       "    <tr>\n",
       "      <th>1</th>\n",
       "      <td>1729</td>\n",
       "      <td>1729</td>\n",
       "      <td>England Premier League</td>\n",
       "    </tr>\n",
       "    <tr>\n",
       "      <th>2</th>\n",
       "      <td>4769</td>\n",
       "      <td>4769</td>\n",
       "      <td>France Ligue 1</td>\n",
       "    </tr>\n",
       "    <tr>\n",
       "      <th>3</th>\n",
       "      <td>7809</td>\n",
       "      <td>7809</td>\n",
       "      <td>Germany 1. Bundesliga</td>\n",
       "    </tr>\n",
       "    <tr>\n",
       "      <th>4</th>\n",
       "      <td>10257</td>\n",
       "      <td>10257</td>\n",
       "      <td>Italy Serie A</td>\n",
       "    </tr>\n",
       "    <tr>\n",
       "      <th>5</th>\n",
       "      <td>13274</td>\n",
       "      <td>13274</td>\n",
       "      <td>Netherlands Eredivisie</td>\n",
       "    </tr>\n",
       "    <tr>\n",
       "      <th>6</th>\n",
       "      <td>15722</td>\n",
       "      <td>15722</td>\n",
       "      <td>Poland Ekstraklasa</td>\n",
       "    </tr>\n",
       "    <tr>\n",
       "      <th>7</th>\n",
       "      <td>17642</td>\n",
       "      <td>17642</td>\n",
       "      <td>Portugal Liga ZON Sagres</td>\n",
       "    </tr>\n",
       "    <tr>\n",
       "      <th>8</th>\n",
       "      <td>19694</td>\n",
       "      <td>19694</td>\n",
       "      <td>Scotland Premier League</td>\n",
       "    </tr>\n",
       "    <tr>\n",
       "      <th>9</th>\n",
       "      <td>21518</td>\n",
       "      <td>21518</td>\n",
       "      <td>Spain LIGA BBVA</td>\n",
       "    </tr>\n",
       "    <tr>\n",
       "      <th>10</th>\n",
       "      <td>24558</td>\n",
       "      <td>24558</td>\n",
       "      <td>Switzerland Super League</td>\n",
       "    </tr>\n",
       "  </tbody>\n",
       "</table>\n",
       "</div>"
      ],
      "text/plain": [
       "       id  country_id                      name\n",
       "0       1           1    Belgium Jupiler League\n",
       "1    1729        1729    England Premier League\n",
       "2    4769        4769            France Ligue 1\n",
       "3    7809        7809     Germany 1. Bundesliga\n",
       "4   10257       10257             Italy Serie A\n",
       "5   13274       13274    Netherlands Eredivisie\n",
       "6   15722       15722        Poland Ekstraklasa\n",
       "7   17642       17642  Portugal Liga ZON Sagres\n",
       "8   19694       19694   Scotland Premier League\n",
       "9   21518       21518           Spain LIGA BBVA\n",
       "10  24558       24558  Switzerland Super League"
      ]
     },
     "execution_count": 4,
     "metadata": {},
     "output_type": "execute_result"
    }
   ],
   "source": [
    "leagues"
   ]
  },
  {
   "cell_type": "code",
   "execution_count": 5,
   "metadata": {
    "collapsed": false
   },
   "outputs": [],
   "source": [
    "#narrow down to the season and league that we want\n",
    "matches = matches[(matches['country_id'] == 1729) & (matches['season'] == '2013/2014')].copy()"
   ]
  },
  {
   "cell_type": "code",
   "execution_count": 6,
   "metadata": {
    "collapsed": false
   },
   "outputs": [
    {
     "data": {
      "text/plain": [
       "(380, 114)"
      ]
     },
     "execution_count": 6,
     "metadata": {},
     "output_type": "execute_result"
    }
   ],
   "source": [
    "matches.shape"
   ]
  },
  {
   "cell_type": "code",
   "execution_count": 8,
   "metadata": {
    "collapsed": false
   },
   "outputs": [],
   "source": [
    "matches = matches[['home_team_api_id','away_team_api_id','home_team_goal','away_team_goal','match_api_id']].copy()"
   ]
  },
  {
   "cell_type": "code",
   "execution_count": 10,
   "metadata": {
    "collapsed": false
   },
   "outputs": [],
   "source": [
    "matches_clean = pd.merge(pd.merge(matches,teams[['team_api_id','team_long_name']]\n",
    "         ,left_on = 'home_team_api_id',right_on = 'team_api_id')\n",
    "         ,teams[['team_api_id','team_long_name']]\n",
    "         ,left_on = 'away_team_api_id',right_on = 'team_api_id')"
   ]
  },
  {
   "cell_type": "code",
   "execution_count": 36,
   "metadata": {
    "collapsed": false
   },
   "outputs": [
    {
     "data": {
      "text/html": [
       "<div>\n",
       "<style scoped>\n",
       "    .dataframe tbody tr th:only-of-type {\n",
       "        vertical-align: middle;\n",
       "    }\n",
       "\n",
       "    .dataframe tbody tr th {\n",
       "        vertical-align: top;\n",
       "    }\n",
       "\n",
       "    .dataframe thead th {\n",
       "        text-align: right;\n",
       "    }\n",
       "</style>\n",
       "<table border=\"1\" class=\"dataframe\">\n",
       "  <thead>\n",
       "    <tr style=\"text-align: right;\">\n",
       "      <th></th>\n",
       "      <th>HomeGoals</th>\n",
       "      <th>AwayGoals</th>\n",
       "      <th>HomeTeam</th>\n",
       "      <th>AwayTeam</th>\n",
       "    </tr>\n",
       "    <tr>\n",
       "      <th>match_api_id</th>\n",
       "      <th></th>\n",
       "      <th></th>\n",
       "      <th></th>\n",
       "      <th></th>\n",
       "    </tr>\n",
       "  </thead>\n",
       "  <tbody>\n",
       "    <tr>\n",
       "      <th>1474058</th>\n",
       "      <td>1</td>\n",
       "      <td>3</td>\n",
       "      <td>Arsenal</td>\n",
       "      <td>Aston Villa</td>\n",
       "    </tr>\n",
       "    <tr>\n",
       "      <th>1474059</th>\n",
       "      <td>2</td>\n",
       "      <td>0</td>\n",
       "      <td>Chelsea</td>\n",
       "      <td>Hull City</td>\n",
       "    </tr>\n",
       "    <tr>\n",
       "      <th>1474061</th>\n",
       "      <td>0</td>\n",
       "      <td>1</td>\n",
       "      <td>Crystal Palace</td>\n",
       "      <td>Tottenham Hotspur</td>\n",
       "    </tr>\n",
       "    <tr>\n",
       "      <th>1474065</th>\n",
       "      <td>1</td>\n",
       "      <td>0</td>\n",
       "      <td>Liverpool</td>\n",
       "      <td>Stoke City</td>\n",
       "    </tr>\n",
       "    <tr>\n",
       "      <th>1474068</th>\n",
       "      <td>4</td>\n",
       "      <td>0</td>\n",
       "      <td>Manchester City</td>\n",
       "      <td>Newcastle United</td>\n",
       "    </tr>\n",
       "  </tbody>\n",
       "</table>\n",
       "</div>"
      ],
      "text/plain": [
       "              HomeGoals  AwayGoals         HomeTeam           AwayTeam\n",
       "match_api_id                                                          \n",
       "1474058               1          3          Arsenal        Aston Villa\n",
       "1474059               2          0          Chelsea          Hull City\n",
       "1474061               0          1   Crystal Palace  Tottenham Hotspur\n",
       "1474065               1          0        Liverpool         Stoke City\n",
       "1474068               4          0  Manchester City   Newcastle United"
      ]
     },
     "execution_count": 36,
     "metadata": {},
     "output_type": "execute_result"
    }
   ],
   "source": [
    "matches = matches_clean.sort_values(by = 'match_api_id').set_index('match_api_id',drop = True).iloc[:,[2,3,5,7]].copy()\n",
    "#rename columns\n",
    "matches.columns = ['HomeGoals','AwayGoals','HomeTeam','AwayTeam']\n",
    "matches.head()"
   ]
  },
  {
   "cell_type": "code",
   "execution_count": 39,
   "metadata": {
    "collapsed": false
   },
   "outputs": [
    {
     "data": {
      "text/plain": [
       "HomeGoals    1.573684\n",
       "AwayGoals    1.194737\n",
       "dtype: float64"
      ]
     },
     "execution_count": 39,
     "metadata": {},
     "output_type": "execute_result"
    }
   ],
   "source": [
    "matches.mean()"
   ]
  },
  {
   "cell_type": "markdown",
   "metadata": {},
   "source": [
    "## Now look at the poisson visualisations"
   ]
  },
  {
   "cell_type": "code",
   "execution_count": 42,
   "metadata": {
    "collapsed": false
   },
   "outputs": [
    {
     "data": {
      "image/png": "[encoded data removed]",
      "text/plain": [
       "<matplotlib.figure.Figure at 0x13c7a080>"
      ]
     },
     "metadata": {},
     "output_type": "display_data"
    }
   ],
   "source": [
    "from scipy.stats import poisson,skellam\n",
    "import matplotlib.pyplot as plt\n",
    "%matplotlib inline\n",
    "\n",
    "poisson_pred = np.column_stack([[poisson.pmf(i, matches.mean()[j]) for i in range(8)] for j in range(2)])\n",
    "\n",
    "# plot histogram of actual goals\n",
    "plt.hist(matches[['HomeGoals', 'AwayGoals']].values, range(9), \n",
    "         alpha=0.7, label=['Home', 'Away'],normed=True, color=[\"#FFA07A\", \"#20B2AA\"])\n",
    "\n",
    "# add lines for the Poisson distributions\n",
    "pois1, = plt.plot([i-0.5 for i in range(1,9)], poisson_pred[:,0],\n",
    "                  linestyle='-', marker='o',label=\"Home\", color = '#CD5C5C')\n",
    "pois2, = plt.plot([i-0.5 for i in range(1,9)], poisson_pred[:,1],\n",
    "                  linestyle='-', marker='o',label=\"Away\", color = '#006400')\n",
    "\n",
    "leg=plt.legend(loc='upper right', fontsize=13, ncol=2)\n",
    "leg.set_title(\"Poisson           Actual        \", prop = {'size':'14', 'weight':'bold'})\n",
    "\n",
    "plt.xticks([i-0.5 for i in range(1,9)],[i for i in range(9)])\n",
    "plt.xlabel(\"Goals per Match\",size=13)\n",
    "plt.ylabel(\"Proportion of Matches\",size=13)\n",
    "plt.title(\"Number of Goals per Match (EPL 2013/14 Season)\",size=14,fontweight='bold')\n",
    "plt.ylim([-0.004, 0.4])\n",
    "plt.tight_layout()\n",
    "plt.show()"
   ]
  },
  {
   "cell_type": "markdown",
   "metadata": {},
   "source": [
    "## Skellam is the difference between two poisson distributions"
   ]
  },
  {
   "cell_type": "code",
   "execution_count": 44,
   "metadata": {
    "collapsed": false
   },
   "outputs": [
    {
     "data": {
      "image/png": "[encoded data removed]",
      "text/plain": [
       "<matplotlib.figure.Figure at 0x1869bfd0>"
      ]
     },
     "metadata": {},
     "output_type": "display_data"
    }
   ],
   "source": [
    "skellam_pred = [skellam.pmf(i,  matches.mean()[0],  matches.mean()[1]) for i in range(-6,8)]\n",
    "\n",
    "plt.hist(matches[['HomeGoals']].values - matches[['AwayGoals']].values, range(-6,8), \n",
    "         alpha=0.7, label='Actual',normed=True)\n",
    "plt.plot([i+0.5 for i in range(-6,8)], skellam_pred,\n",
    "                  linestyle='-', marker='o',label=\"Skellam\", color = '#CD5C5C')\n",
    "plt.legend(loc='upper right', fontsize=13)\n",
    "plt.xticks([i+0.5 for i in range(-6,8)],[i for i in range(-6,8)])\n",
    "plt.xlabel(\"Home Goals - Away Goals\",size=13)\n",
    "plt.ylabel(\"Proportion of Matches\",size=13)\n",
    "plt.title(\"Difference in Goals Scored (Home Team vs Away Team)\",size=14,fontweight='bold')\n",
    "plt.ylim([-0.004, 0.26])\n",
    "plt.tight_layout()\n",
    "plt.show()"
   ]
  },
  {
   "cell_type": "markdown",
   "metadata": {},
   "source": [
    "## Generalized Linear Model"
   ]
  },
  {
   "cell_type": "code",
   "execution_count": 46,
   "metadata": {
    "collapsed": false
   },
   "outputs": [
    {
     "name": "stderr",
     "output_type": "stream",
     "text": [
      "C:\\Anaconda3\\lib\\site-packages\\statsmodels\\compat\\pandas.py:56: FutureWarning: The pandas.core.datetools module is deprecated and will be removed in a future version. Please use the pandas.tseries module instead.\n",
      "  from pandas.core import datetools\n"
     ]
    },
    {
     "data": {
      "text/html": [
       "<table class=\"simpletable\">\n",
       "<caption>Generalized Linear Model Regression Results</caption>\n",
       "<tr>\n",
       "  <th>Dep. Variable:</th>        <td>goals</td>      <th>  No. Observations:  </th>  <td>   760</td> \n",
       "</tr>\n",
       "<tr>\n",
       "  <th>Model:</th>                 <td>GLM</td>       <th>  Df Residuals:      </th>  <td>   720</td> \n",
       "</tr>\n",
       "<tr>\n",
       "  <th>Model Family:</th>        <td>Poisson</td>     <th>  Df Model:          </th>  <td>    39</td> \n",
       "</tr>\n",
       "<tr>\n",
       "  <th>Link Function:</th>         <td>log</td>       <th>  Scale:             </th>    <td>1.0</td>  \n",
       "</tr>\n",
       "<tr>\n",
       "  <th>Method:</th>               <td>IRLS</td>       <th>  Log-Likelihood:    </th> <td> -1083.8</td>\n",
       "</tr>\n",
       "<tr>\n",
       "  <th>Date:</th>           <td>Thu, 01 Mar 2018</td> <th>  Deviance:          </th> <td>  851.77</td>\n",
       "</tr>\n",
       "<tr>\n",
       "  <th>Time:</th>               <td>10:44:40</td>     <th>  Pearson chi2:      </th>  <td>  737.</td> \n",
       "</tr>\n",
       "<tr>\n",
       "  <th>No. Iterations:</th>         <td>5</td>        <th>                     </th>     <td> </td>   \n",
       "</tr>\n",
       "</table>\n",
       "<table class=\"simpletable\">\n",
       "<tr>\n",
       "                  <td></td>                    <th>coef</th>     <th>std err</th>      <th>z</th>      <th>P>|z|</th>  <th>[0.025</th>    <th>0.975]</th>  \n",
       "</tr>\n",
       "<tr>\n",
       "  <th>Intercept</th>                        <td>    0.1921</td> <td>    0.203</td> <td>    0.944</td> <td> 0.345</td> <td>   -0.207</td> <td>    0.591</td>\n",
       "</tr>\n",
       "<tr>\n",
       "  <th>team[T.Aston Villa]</th>              <td>   -0.5373</td> <td>    0.201</td> <td>   -2.672</td> <td> 0.008</td> <td>   -0.932</td> <td>   -0.143</td>\n",
       "</tr>\n",
       "<tr>\n",
       "  <th>team[T.Cardiff City]</th>             <td>   -0.7226</td> <td>    0.215</td> <td>   -3.366</td> <td> 0.001</td> <td>   -1.143</td> <td>   -0.302</td>\n",
       "</tr>\n",
       "<tr>\n",
       "  <th>team[T.Chelsea]</th>                  <td>    0.0292</td> <td>    0.170</td> <td>    0.172</td> <td> 0.863</td> <td>   -0.304</td> <td>    0.362</td>\n",
       "</tr>\n",
       "<tr>\n",
       "  <th>team[T.Crystal Palace]</th>           <td>   -0.7176</td> <td>    0.212</td> <td>   -3.379</td> <td> 0.001</td> <td>   -1.134</td> <td>   -0.301</td>\n",
       "</tr>\n",
       "<tr>\n",
       "  <th>team[T.Everton]</th>                  <td>   -0.1109</td> <td>    0.177</td> <td>   -0.628</td> <td> 0.530</td> <td>   -0.457</td> <td>    0.235</td>\n",
       "</tr>\n",
       "<tr>\n",
       "  <th>team[T.Fulham]</th>                   <td>   -0.4876</td> <td>    0.200</td> <td>   -2.443</td> <td> 0.015</td> <td>   -0.879</td> <td>   -0.096</td>\n",
       "</tr>\n",
       "<tr>\n",
       "  <th>team[T.Hull City]</th>                <td>   -0.5713</td> <td>    0.203</td> <td>   -2.818</td> <td> 0.005</td> <td>   -0.969</td> <td>   -0.174</td>\n",
       "</tr>\n",
       "<tr>\n",
       "  <th>team[T.Liverpool]</th>                <td>    0.4065</td> <td>    0.157</td> <td>    2.586</td> <td> 0.010</td> <td>    0.098</td> <td>    0.715</td>\n",
       "</tr>\n",
       "<tr>\n",
       "  <th>team[T.Manchester City]</th>          <td>    0.4028</td> <td>    0.157</td> <td>    2.568</td> <td> 0.010</td> <td>    0.095</td> <td>    0.710</td>\n",
       "</tr>\n",
       "<tr>\n",
       "  <th>team[T.Manchester United]</th>        <td>   -0.0588</td> <td>    0.174</td> <td>   -0.337</td> <td> 0.736</td> <td>   -0.401</td> <td>    0.283</td>\n",
       "</tr>\n",
       "<tr>\n",
       "  <th>team[T.Newcastle United]</th>         <td>   -0.4415</td> <td>    0.195</td> <td>   -2.263</td> <td> 0.024</td> <td>   -0.824</td> <td>   -0.059</td>\n",
       "</tr>\n",
       "<tr>\n",
       "  <th>team[T.Norwich City]</th>             <td>   -0.8684</td> <td>    0.225</td> <td>   -3.863</td> <td> 0.000</td> <td>   -1.309</td> <td>   -0.428</td>\n",
       "</tr>\n",
       "<tr>\n",
       "  <th>team[T.Southampton]</th>              <td>   -0.2261</td> <td>    0.183</td> <td>   -1.239</td> <td> 0.215</td> <td>   -0.584</td> <td>    0.132</td>\n",
       "</tr>\n",
       "<tr>\n",
       "  <th>team[T.Stoke City]</th>               <td>   -0.4029</td> <td>    0.192</td> <td>   -2.094</td> <td> 0.036</td> <td>   -0.780</td> <td>   -0.026</td>\n",
       "</tr>\n",
       "<tr>\n",
       "  <th>team[T.Sunderland]</th>               <td>   -0.4882</td> <td>    0.198</td> <td>   -2.466</td> <td> 0.014</td> <td>   -0.876</td> <td>   -0.100</td>\n",
       "</tr>\n",
       "<tr>\n",
       "  <th>team[T.Swansea City]</th>             <td>   -0.2181</td> <td>    0.183</td> <td>   -1.195</td> <td> 0.232</td> <td>   -0.576</td> <td>    0.140</td>\n",
       "</tr>\n",
       "<tr>\n",
       "  <th>team[T.Tottenham Hotspur]</th>        <td>   -0.2027</td> <td>    0.182</td> <td>   -1.116</td> <td> 0.264</td> <td>   -0.559</td> <td>    0.153</td>\n",
       "</tr>\n",
       "<tr>\n",
       "  <th>team[T.West Bromwich Albion]</th>     <td>   -0.4415</td> <td>    0.195</td> <td>   -2.263</td> <td> 0.024</td> <td>   -0.824</td> <td>   -0.059</td>\n",
       "</tr>\n",
       "<tr>\n",
       "  <th>team[T.West Ham United]</th>          <td>   -0.5219</td> <td>    0.199</td> <td>   -2.616</td> <td> 0.009</td> <td>   -0.913</td> <td>   -0.131</td>\n",
       "</tr>\n",
       "<tr>\n",
       "  <th>opponent[T.Aston Villa]</th>          <td>    0.3692</td> <td>    0.202</td> <td>    1.826</td> <td> 0.068</td> <td>   -0.027</td> <td>    0.766</td>\n",
       "</tr>\n",
       "<tr>\n",
       "  <th>opponent[T.Cardiff City]</th>         <td>    0.5559</td> <td>    0.195</td> <td>    2.851</td> <td> 0.004</td> <td>    0.174</td> <td>    0.938</td>\n",
       "</tr>\n",
       "<tr>\n",
       "  <th>opponent[T.Chelsea]</th>              <td>   -0.4157</td> <td>    0.248</td> <td>   -1.675</td> <td> 0.094</td> <td>   -0.902</td> <td>    0.071</td>\n",
       "</tr>\n",
       "<tr>\n",
       "  <th>opponent[T.Crystal Palace]</th>       <td>    0.1232</td> <td>    0.213</td> <td>    0.579</td> <td> 0.563</td> <td>   -0.294</td> <td>    0.540</td>\n",
       "</tr>\n",
       "<tr>\n",
       "  <th>opponent[T.Everton]</th>              <td>   -0.0572</td> <td>    0.224</td> <td>   -0.255</td> <td> 0.799</td> <td>   -0.496</td> <td>    0.382</td>\n",
       "</tr>\n",
       "<tr>\n",
       "  <th>opponent[T.Fulham]</th>               <td>    0.7030</td> <td>    0.190</td> <td>    3.692</td> <td> 0.000</td> <td>    0.330</td> <td>    1.076</td>\n",
       "</tr>\n",
       "<tr>\n",
       "  <th>opponent[T.Hull City]</th>            <td>    0.2273</td> <td>    0.208</td> <td>    1.092</td> <td> 0.275</td> <td>   -0.181</td> <td>    0.635</td>\n",
       "</tr>\n",
       "<tr>\n",
       "  <th>opponent[T.Liverpool]</th>            <td>    0.2334</td> <td>    0.211</td> <td>    1.106</td> <td> 0.269</td> <td>   -0.180</td> <td>    0.647</td>\n",
       "</tr>\n",
       "<tr>\n",
       "  <th>opponent[T.Manchester City]</th>      <td>   -0.0681</td> <td>    0.227</td> <td>   -0.300</td> <td> 0.764</td> <td>   -0.513</td> <td>    0.377</td>\n",
       "</tr>\n",
       "<tr>\n",
       "  <th>opponent[T.Manchester United]</th>    <td>    0.0437</td> <td>    0.219</td> <td>    0.200</td> <td> 0.841</td> <td>   -0.385</td> <td>    0.472</td>\n",
       "</tr>\n",
       "<tr>\n",
       "  <th>opponent[T.Newcastle United]</th>     <td>    0.3398</td> <td>    0.204</td> <td>    1.669</td> <td> 0.095</td> <td>   -0.059</td> <td>    0.739</td>\n",
       "</tr>\n",
       "<tr>\n",
       "  <th>opponent[T.Norwich City]</th>         <td>    0.3746</td> <td>    0.202</td> <td>    1.859</td> <td> 0.063</td> <td>   -0.020</td> <td>    0.770</td>\n",
       "</tr>\n",
       "<tr>\n",
       "  <th>opponent[T.Southampton]</th>          <td>    0.1013</td> <td>    0.215</td> <td>    0.471</td> <td> 0.638</td> <td>   -0.320</td> <td>    0.523</td>\n",
       "</tr>\n",
       "<tr>\n",
       "  <th>opponent[T.Stoke City]</th>           <td>    0.2152</td> <td>    0.209</td> <td>    1.029</td> <td> 0.303</td> <td>   -0.195</td> <td>    0.625</td>\n",
       "</tr>\n",
       "<tr>\n",
       "  <th>opponent[T.Sunderland]</th>           <td>    0.3547</td> <td>    0.203</td> <td>    1.748</td> <td> 0.080</td> <td>   -0.043</td> <td>    0.752</td>\n",
       "</tr>\n",
       "<tr>\n",
       "  <th>opponent[T.Swansea City]</th>         <td>    0.2621</td> <td>    0.207</td> <td>    1.263</td> <td> 0.206</td> <td>   -0.144</td> <td>    0.669</td>\n",
       "</tr>\n",
       "<tr>\n",
       "  <th>opponent[T.Tottenham Hotspur]</th>    <td>    0.2058</td> <td>    0.210</td> <td>    0.980</td> <td> 0.327</td> <td>   -0.206</td> <td>    0.617</td>\n",
       "</tr>\n",
       "<tr>\n",
       "  <th>opponent[T.West Bromwich Albion]</th> <td>    0.3398</td> <td>    0.204</td> <td>    1.669</td> <td> 0.095</td> <td>   -0.059</td> <td>    0.739</td>\n",
       "</tr>\n",
       "<tr>\n",
       "  <th>opponent[T.West Ham United]</th>      <td>    0.1908</td> <td>    0.210</td> <td>    0.908</td> <td> 0.364</td> <td>   -0.221</td> <td>    0.602</td>\n",
       "</tr>\n",
       "<tr>\n",
       "  <th>home</th>                             <td>    0.2755</td> <td>    0.062</td> <td>    4.426</td> <td> 0.000</td> <td>    0.153</td> <td>    0.397</td>\n",
       "</tr>\n",
       "</table>"
      ],
      "text/plain": [
       "<class 'statsmodels.iolib.summary.Summary'>\n",
       "\"\"\"\n",
       "                 Generalized Linear Model Regression Results                  \n",
       "==============================================================================\n",
       "Dep. Variable:                  goals   No. Observations:                  760\n",
       "Model:                            GLM   Df Residuals:                      720\n",
       "Model Family:                 Poisson   Df Model:                           39\n",
       "Link Function:                    log   Scale:                             1.0\n",
       "Method:                          IRLS   Log-Likelihood:                -1083.8\n",
       "Date:                Thu, 01 Mar 2018   Deviance:                       851.77\n",
       "Time:                        10:44:40   Pearson chi2:                     737.\n",
       "No. Iterations:                     5                                         \n",
       "====================================================================================================\n",
       "                                       coef    std err          z      P>|z|      [0.025      0.975]\n",
       "----------------------------------------------------------------------------------------------------\n",
       "Intercept                            0.1921      0.203      0.944      0.345      -0.207       0.591\n",
       "team[T.Aston Villa]                 -0.5373      0.201     -2.672      0.008      -0.932      -0.143\n",
       "team[T.Cardiff City]                -0.7226      0.215     -3.366      0.001      -1.143      -0.302\n",
       "team[T.Chelsea]                      0.0292      0.170      0.172      0.863      -0.304       0.362\n",
       "team[T.Crystal Palace]              -0.7176      0.212     -3.379      0.001      -1.134      -0.301\n",
       "team[T.Everton]                     -0.1109      0.177     -0.628      0.530      -0.457       0.235\n",
       "team[T.Fulham]                      -0.4876      0.200     -2.443      0.015      -0.879      -0.096\n",
       "team[T.Hull City]                   -0.5713      0.203     -2.818      0.005      -0.969      -0.174\n",
       "team[T.Liverpool]                    0.4065      0.157      2.586      0.010       0.098       0.715\n",
       "team[T.Manchester City]              0.4028      0.157      2.568      0.010       0.095       0.710\n",
       "team[T.Manchester United]           -0.0588      0.174     -0.337      0.736      -0.401       0.283\n",
       "team[T.Newcastle United]            -0.4415      0.195     -2.263      0.024      -0.824      -0.059\n",
       "team[T.Norwich City]                -0.8684      0.225     -3.863      0.000      -1.309      -0.428\n",
       "team[T.Southampton]                 -0.2261      0.183     -1.239      0.215      -0.584       0.132\n",
       "team[T.Stoke City]                  -0.4029      0.192     -2.094      0.036      -0.780      -0.026\n",
       "team[T.Sunderland]                  -0.4882      0.198     -2.466      0.014      -0.876      -0.100\n",
       "team[T.Swansea City]                -0.2181      0.183     -1.195      0.232      -0.576       0.140\n",
       "team[T.Tottenham Hotspur]           -0.2027      0.182     -1.116      0.264      -0.559       0.153\n",
       "team[T.West Bromwich Albion]        -0.4415      0.195     -2.263      0.024      -0.824      -0.059\n",
       "team[T.West Ham United]             -0.5219      0.199     -2.616      0.009      -0.913      -0.131\n",
       "opponent[T.Aston Villa]              0.3692      0.202      1.826      0.068      -0.027       0.766\n",
       "opponent[T.Cardiff City]             0.5559      0.195      2.851      0.004       0.174       0.938\n",
       "opponent[T.Chelsea]                 -0.4157      0.248     -1.675      0.094      -0.902       0.071\n",
       "opponent[T.Crystal Palace]           0.1232      0.213      0.579      0.563      -0.294       0.540\n",
       "opponent[T.Everton]                 -0.0572      0.224     -0.255      0.799      -0.496       0.382\n",
       "opponent[T.Fulham]                   0.7030      0.190      3.692      0.000       0.330       1.076\n",
       "opponent[T.Hull City]                0.2273      0.208      1.092      0.275      -0.181       0.635\n",
       "opponent[T.Liverpool]                0.2334      0.211      1.106      0.269      -0.180       0.647\n",
       "opponent[T.Manchester City]         -0.0681      0.227     -0.300      0.764      -0.513       0.377\n",
       "opponent[T.Manchester United]        0.0437      0.219      0.200      0.841      -0.385       0.472\n",
       "opponent[T.Newcastle United]         0.3398      0.204      1.669      0.095      -0.059       0.739\n",
       "opponent[T.Norwich City]             0.3746      0.202      1.859      0.063      -0.020       0.770\n",
       "opponent[T.Southampton]              0.1013      0.215      0.471      0.638      -0.320       0.523\n",
       "opponent[T.Stoke City]               0.2152      0.209      1.029      0.303      -0.195       0.625\n",
       "opponent[T.Sunderland]               0.3547      0.203      1.748      0.080      -0.043       0.752\n",
       "opponent[T.Swansea City]             0.2621      0.207      1.263      0.206      -0.144       0.669\n",
       "opponent[T.Tottenham Hotspur]        0.2058      0.210      0.980      0.327      -0.206       0.617\n",
       "opponent[T.West Bromwich Albion]     0.3398      0.204      1.669      0.095      -0.059       0.739\n",
       "opponent[T.West Ham United]          0.1908      0.210      0.908      0.364      -0.221       0.602\n",
       "home                                 0.2755      0.062      4.426      0.000       0.153       0.397\n",
       "====================================================================================================\n",
       "\"\"\""
      ]
     },
     "execution_count": 46,
     "metadata": {},
     "output_type": "execute_result"
    }
   ],
   "source": [
    "import statsmodels.api as sm\n",
    "import statsmodels.formula.api as smf\n",
    "\n",
    "goal_model_data = pd.concat([matches[['HomeTeam','AwayTeam','HomeGoals']].assign(home=1).rename(\n",
    "            columns={'HomeTeam':'team', 'AwayTeam':'opponent','HomeGoals':'goals'}),\n",
    "           matches[['AwayTeam','HomeTeam','AwayGoals']].assign(home=0).rename(\n",
    "            columns={'AwayTeam':'team', 'HomeTeam':'opponent','AwayGoals':'goals'})])\n",
    "\n",
    "poisson_model = smf.glm(formula=\"goals ~ home + team + opponent\", data=goal_model_data, \n",
    "                        family=sm.families.Poisson()).fit()\n",
    "poisson_model.summary()"
   ]
  },
  {
   "cell_type": "code",
   "execution_count": 48,
   "metadata": {
    "collapsed": false
   },
   "outputs": [
    {
     "data": {
      "text/plain": [
       "1    1.960837\n",
       "dtype: float64"
      ]
     },
     "execution_count": 48,
     "metadata": {},
     "output_type": "execute_result"
    }
   ],
   "source": [
    "#can do expected goals\n",
    "\n",
    "poisson_model.predict(pd.DataFrame(data={'team': 'Arsenal', 'opponent': 'Tottenham Hotspur',\n",
    "                                       'home':1},index=[1]))"
   ]
  },
  {
   "cell_type": "code",
   "execution_count": 51,
   "metadata": {
    "collapsed": false
   },
   "outputs": [],
   "source": [
    "#can also simulate the match\n",
    "\n",
    "def simulate_match(foot_model, homeTeam, awayTeam, max_goals=10):\n",
    "    home_goals_avg = foot_model.predict(pd.DataFrame(data={'team': homeTeam, \n",
    "                                                            'opponent': awayTeam,'home':1},\n",
    "                                                      index=[1])).values[0]\n",
    "    away_goals_avg = foot_model.predict(pd.DataFrame(data={'team': awayTeam, \n",
    "                                                            'opponent': homeTeam,'home':0},\n",
    "                                                      index=[1])).values[0]\n",
    "    team_pred = [[poisson.pmf(i, team_avg) for i in range(0, max_goals+1)] for team_avg in [home_goals_avg, away_goals_avg]]\n",
    "    return(np.outer(np.array(team_pred[0]), np.array(team_pred[1])))"
   ]
  },
  {
   "cell_type": "code",
   "execution_count": 52,
   "metadata": {
    "collapsed": false
   },
   "outputs": [
    {
     "data": {
      "text/plain": [
       "array([[ 0.05232353,  0.05177267,  0.0256138 ,  0.00844805],\n",
       "       [ 0.10259792,  0.10151777,  0.05022449,  0.01656524],\n",
       "       [ 0.10058891,  0.0995299 ,  0.04924102,  0.01624087],\n",
       "       [ 0.06574616,  0.06505398,  0.03218454,  0.01061523]])"
      ]
     },
     "execution_count": 52,
     "metadata": {},
     "output_type": "execute_result"
    }
   ],
   "source": [
    "simulate_match(poisson_model,'Arsenal','Tottenham Hotspur',3)"
   ]
  },
  {
   "cell_type": "code",
   "execution_count": 53,
   "metadata": {
    "collapsed": true
   },
   "outputs": [],
   "source": [
    "# add up along the matrix to determine probabilities of H/W/D"
   ]
  },
  {
   "cell_type": "code",
   "execution_count": 54,
   "metadata": {
    "collapsed": false
   },
   "outputs": [
    {
     "data": {
      "text/plain": [
       "0.2136975542663887"
      ]
     },
     "execution_count": 54,
     "metadata": {},
     "output_type": "execute_result"
    }
   ],
   "source": [
    "np.sum(np.diag(simulate_match(poisson_model,'Arsenal','Tottenham Hotspur',3)))"
   ]
  },
  {
   "cell_type": "code",
   "execution_count": null,
   "metadata": {
    "collapsed": true
   },
   "outputs": [],
   "source": []
  }
 ],
 "metadata": {
  "anaconda-cloud": {},
  "kernelspec": {
   "display_name": "Python [Root]",
   "language": "python",
   "name": "Python [Root]"
  },
  "language_info": {
   "codemirror_mode": {
    "name": "ipython",
    "version": 3
   },
   "file_extension": ".py",
   "mimetype": "text/x-python",
   "name": "python",
   "nbconvert_exporter": "python",
   "pygments_lexer": "ipython3",
   "version": "3.5.2"
  }
 },
 "nbformat": 4,
 "nbformat_minor": 0
}
