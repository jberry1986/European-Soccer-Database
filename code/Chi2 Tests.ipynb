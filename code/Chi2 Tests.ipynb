{
 "cells": [
  {
   "cell_type": "code",
   "execution_count": 1,
   "metadata": {
    "collapsed": true
   },
   "outputs": [],
   "source": [
    "import sqlite3\n",
    "import pandas as pd\n",
    "import numpy as np"
   ]
  },
  {
   "cell_type": "code",
   "execution_count": 2,
   "metadata": {
    "collapsed": true
   },
   "outputs": [],
   "source": [
    "with sqlite3.connect('../data/database.sqlite') as con:\n",
    "\n",
    "    countries = pd.read_sql_query(\"SELECT * from Country\", con)\n",
    "    matches = pd.read_sql_query(\"SELECT * from Match\", con)\n",
    "    leagues = pd.read_sql_query(\"SELECT * from League\", con)\n",
    "    teams = pd.read_sql_query(\"SELECT * from Team\", con)"
   ]
  },
  {
   "cell_type": "code",
   "execution_count": 3,
   "metadata": {
    "collapsed": false
   },
   "outputs": [],
   "source": [
    "matches = matches.set_index('id',drop = True)"
   ]
  },
  {
   "cell_type": "code",
   "execution_count": 4,
   "metadata": {
    "collapsed": false
   },
   "outputs": [],
   "source": [
    "matches = matches.iloc[:,:10].copy()"
   ]
  },
  {
   "cell_type": "code",
   "execution_count": 5,
   "metadata": {
    "collapsed": false
   },
   "outputs": [
    {
     "data": {
      "text/html": [
       "<div>\n",
       "<style scoped>\n",
       "    .dataframe tbody tr th:only-of-type {\n",
       "        vertical-align: middle;\n",
       "    }\n",
       "\n",
       "    .dataframe tbody tr th {\n",
       "        vertical-align: top;\n",
       "    }\n",
       "\n",
       "    .dataframe thead th {\n",
       "        text-align: right;\n",
       "    }\n",
       "</style>\n",
       "<table border=\"1\" class=\"dataframe\">\n",
       "  <thead>\n",
       "    <tr style=\"text-align: right;\">\n",
       "      <th></th>\n",
       "      <th>country_id</th>\n",
       "      <th>league_id</th>\n",
       "      <th>season</th>\n",
       "      <th>stage</th>\n",
       "      <th>date</th>\n",
       "      <th>match_api_id</th>\n",
       "      <th>home_team_api_id</th>\n",
       "      <th>away_team_api_id</th>\n",
       "      <th>home_team_goal</th>\n",
       "      <th>away_team_goal</th>\n",
       "    </tr>\n",
       "    <tr>\n",
       "      <th>id</th>\n",
       "      <th></th>\n",
       "      <th></th>\n",
       "      <th></th>\n",
       "      <th></th>\n",
       "      <th></th>\n",
       "      <th></th>\n",
       "      <th></th>\n",
       "      <th></th>\n",
       "      <th></th>\n",
       "      <th></th>\n",
       "    </tr>\n",
       "  </thead>\n",
       "  <tbody>\n",
       "    <tr>\n",
       "      <th>1</th>\n",
       "      <td>1</td>\n",
       "      <td>1</td>\n",
       "      <td>2008/2009</td>\n",
       "      <td>1</td>\n",
       "      <td>2008-08-17 00:00:00</td>\n",
       "      <td>492473</td>\n",
       "      <td>9987</td>\n",
       "      <td>9993</td>\n",
       "      <td>1</td>\n",
       "      <td>1</td>\n",
       "    </tr>\n",
       "    <tr>\n",
       "      <th>2</th>\n",
       "      <td>1</td>\n",
       "      <td>1</td>\n",
       "      <td>2008/2009</td>\n",
       "      <td>1</td>\n",
       "      <td>2008-08-16 00:00:00</td>\n",
       "      <td>492474</td>\n",
       "      <td>10000</td>\n",
       "      <td>9994</td>\n",
       "      <td>0</td>\n",
       "      <td>0</td>\n",
       "    </tr>\n",
       "    <tr>\n",
       "      <th>3</th>\n",
       "      <td>1</td>\n",
       "      <td>1</td>\n",
       "      <td>2008/2009</td>\n",
       "      <td>1</td>\n",
       "      <td>2008-08-16 00:00:00</td>\n",
       "      <td>492475</td>\n",
       "      <td>9984</td>\n",
       "      <td>8635</td>\n",
       "      <td>0</td>\n",
       "      <td>3</td>\n",
       "    </tr>\n",
       "    <tr>\n",
       "      <th>4</th>\n",
       "      <td>1</td>\n",
       "      <td>1</td>\n",
       "      <td>2008/2009</td>\n",
       "      <td>1</td>\n",
       "      <td>2008-08-17 00:00:00</td>\n",
       "      <td>492476</td>\n",
       "      <td>9991</td>\n",
       "      <td>9998</td>\n",
       "      <td>5</td>\n",
       "      <td>0</td>\n",
       "    </tr>\n",
       "    <tr>\n",
       "      <th>5</th>\n",
       "      <td>1</td>\n",
       "      <td>1</td>\n",
       "      <td>2008/2009</td>\n",
       "      <td>1</td>\n",
       "      <td>2008-08-16 00:00:00</td>\n",
       "      <td>492477</td>\n",
       "      <td>7947</td>\n",
       "      <td>9985</td>\n",
       "      <td>1</td>\n",
       "      <td>3</td>\n",
       "    </tr>\n",
       "  </tbody>\n",
       "</table>\n",
       "</div>"
      ],
      "text/plain": [
       "    country_id  league_id     season  stage                 date  \\\n",
       "id                                                                 \n",
       "1            1          1  2008/2009      1  2008-08-17 00:00:00   \n",
       "2            1          1  2008/2009      1  2008-08-16 00:00:00   \n",
       "3            1          1  2008/2009      1  2008-08-16 00:00:00   \n",
       "4            1          1  2008/2009      1  2008-08-17 00:00:00   \n",
       "5            1          1  2008/2009      1  2008-08-16 00:00:00   \n",
       "\n",
       "    match_api_id  home_team_api_id  away_team_api_id  home_team_goal  \\\n",
       "id                                                                     \n",
       "1         492473              9987              9993               1   \n",
       "2         492474             10000              9994               0   \n",
       "3         492475              9984              8635               0   \n",
       "4         492476              9991              9998               5   \n",
       "5         492477              7947              9985               1   \n",
       "\n",
       "    away_team_goal  \n",
       "id                  \n",
       "1                1  \n",
       "2                0  \n",
       "3                3  \n",
       "4                0  \n",
       "5                3  "
      ]
     },
     "execution_count": 5,
     "metadata": {},
     "output_type": "execute_result"
    }
   ],
   "source": [
    "matches.head()"
   ]
  },
  {
   "cell_type": "markdown",
   "metadata": {},
   "source": [
    "## define a field for the type of outcome"
   ]
  },
  {
   "cell_type": "code",
   "execution_count": 6,
   "metadata": {
    "collapsed": true
   },
   "outputs": [],
   "source": [
    "conditions = [matches['home_team_goal'] > matches['away_team_goal']\n",
    "             ,matches['home_team_goal'] < matches['away_team_goal']]\n",
    "choices = ['hw','aw']"
   ]
  },
  {
   "cell_type": "code",
   "execution_count": 7,
   "metadata": {
    "collapsed": true
   },
   "outputs": [],
   "source": [
    "matches['outcome'] = np.select(conditions, choices, default='draw')"
   ]
  },
  {
   "cell_type": "code",
   "execution_count": 69,
   "metadata": {
    "collapsed": false
   },
   "outputs": [
    {
     "data": {
      "text/plain": [
       "hw      0.458717\n",
       "aw      0.287386\n",
       "draw    0.253897\n",
       "Name: outcome, dtype: float64"
      ]
     },
     "execution_count": 69,
     "metadata": {},
     "output_type": "execute_result"
    }
   ],
   "source": [
    "population = matches.outcome.value_counts(normalize = True)\n",
    "population"
   ]
  },
  {
   "cell_type": "markdown",
   "metadata": {},
   "source": [
    "## can we reject the null hypotheses for any of the leagues?"
   ]
  },
  {
   "cell_type": "code",
   "execution_count": 65,
   "metadata": {
    "collapsed": true
   },
   "outputs": [],
   "source": [
    "from scipy.stats import chisquare"
   ]
  },
  {
   "cell_type": "code",
   "execution_count": 83,
   "metadata": {
    "collapsed": false
   },
   "outputs": [
    {
     "name": "stdout",
     "output_type": "stream",
     "text": [
      "      id   name\n",
      "9  21518  Spain 3040\n",
      "Power_divergenceResult(statistic=12.424892849039185, pvalue=0.0020043280240081272)\n",
      "     id    name\n",
      "2  4769  France 3040\n",
      "Power_divergenceResult(statistic=4.4081315135519237, pvalue=0.11035357423958711)\n",
      "     id     name\n",
      "1  1729  England 3040\n",
      "Power_divergenceResult(statistic=0.22630932676639975, pvalue=0.89301253309508621)\n",
      "      id   name\n",
      "4  10257  Italy 3017\n",
      "Power_divergenceResult(statistic=4.8032902233189549, pvalue=0.090568834818630733)\n",
      "      id         name\n",
      "5  13274  Netherlands 2448\n",
      "Power_divergenceResult(statistic=4.7817556311793599, pvalue=0.091549285205286338)\n",
      "     id     name\n",
      "3  7809  Germany 2448\n",
      "Power_divergenceResult(statistic=3.5242717574016922, pvalue=0.17167778901600084)\n",
      "      id      name\n",
      "7  17642  Portugal 2052\n",
      "Power_divergenceResult(statistic=2.221800993732157, pvalue=0.32926232784224591)\n",
      "      id    name\n",
      "6  15722  Poland 1920\n",
      "Power_divergenceResult(statistic=4.3180425077125486, pvalue=0.11543805031108348)\n",
      "      id      name\n",
      "8  19694  Scotland 1824\n",
      "Power_divergenceResult(statistic=24.022871320060119, pvalue=6.0743494552331458e-06)\n",
      "   id     name\n",
      "0   1  Belgium 1728\n",
      "Power_divergenceResult(statistic=0.83532597293713573, pvalue=0.6585841427963629)\n",
      "       id         name\n",
      "10  24558  Switzerland 1422\n",
      "Power_divergenceResult(statistic=1.3702855205480664, pvalue=0.50401827065207416)\n"
     ]
    }
   ],
   "source": [
    "leagues = matches.league_id.value_counts().index.values\n",
    "for l in leagues:\n",
    "    df = matches[matches['league_id'] == l]\n",
    "    sample = df.outcome.value_counts(normalize = False)\n",
    "    obs = np.array(sample)\n",
    "    exp = np.array(population) * sample.sum()\n",
    "    c = countries[countries['id'] == l]\n",
    "    print(c,sample.sum())\n",
    "    print(chisquare(f_obs = obs,f_exp = exp))"
   ]
  },
  {
   "cell_type": "code",
   "execution_count": null,
   "metadata": {
    "collapsed": true
   },
   "outputs": [],
   "source": []
  }
 ],
 "metadata": {
  "kernelspec": {
   "display_name": "Python [Root]",
   "language": "python",
   "name": "Python [Root]"
  },
  "language_info": {
   "codemirror_mode": {
    "name": "ipython",
    "version": 3
   },
   "file_extension": ".py",
   "mimetype": "text/x-python",
   "name": "python",
   "nbconvert_exporter": "python",
   "pygments_lexer": "ipython3",
   "version": "3.5.2"
  }
 },
 "nbformat": 4,
 "nbformat_minor": 0
}
